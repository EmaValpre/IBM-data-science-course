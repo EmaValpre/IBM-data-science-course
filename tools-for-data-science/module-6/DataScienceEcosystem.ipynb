{
 "cells": [
  {
   "cell_type": "markdown",
   "id": "7c6e08af-1874-4458-bba3-2899b10edeeb",
   "metadata": {},
   "source": [
    "#### This notebook presents the exercises for the Module 6 peer reviewed assignement of \"Tools for Data Science\". Notes like this are in H4 heading, exercise titles are in H3."
   ]
  },
  {
   "cell_type": "markdown",
   "id": "679fe086-23d3-4c0b-99b9-e5eb4cb0d541",
   "metadata": {},
   "source": [
    "### Exercise 2: Create a markdown cell with the title of the notebook"
   ]
  },
  {
   "cell_type": "markdown",
   "id": "21c075b7-9d80-43ee-b49f-144f75274306",
   "metadata": {},
   "source": [
    "# Data Science Tools and Ecosystem "
   ]
  },
  {
   "cell_type": "markdown",
   "id": "5da7a7f3-c8bc-4cb4-970e-944f852bbe78",
   "metadata": {},
   "source": [
    "This is the verbatim command:\n",
    "```\n",
    "# Data Science Tools and Ecosystem\n",
    "```"
   ]
  },
  {
   "cell_type": "markdown",
   "id": "8e348fcd-c8c8-4d58-918e-ac3ab97544fc",
   "metadata": {},
   "source": [
    "### Exercise 3: Create a markdown cell for an introduction "
   ]
  },
  {
   "cell_type": "markdown",
   "id": "3ebfcdb5-aca4-4401-92fa-2c7db1afb472",
   "metadata": {},
   "source": [
    "In this notebook, Data Science Tools and Ecosystem are summarized."
   ]
  },
  {
   "cell_type": "markdown",
   "id": "7f847a54-eb8b-408f-9992-f0eee7ba7bcd",
   "metadata": {},
   "source": [
    "### Exercise 4: Create a markdown cell to list data science languages"
   ]
  },
  {
   "cell_type": "markdown",
   "id": "212663f2-8b89-490f-99f2-7701b7a15b01",
   "metadata": {},
   "source": [
    "Some of the popular languages that Data Scientists use are:\n",
    "1. Python\n",
    "2. R\n",
    "3. SQL\n",
    "4. C++"
   ]
  },
  {
   "cell_type": "markdown",
   "id": "ef886f6a-6179-4dad-bc58-397a94ac52f9",
   "metadata": {},
   "source": [
    "### Exercise 5: Create a markdown cell to list data science libraries"
   ]
  },
  {
   "cell_type": "markdown",
   "id": "2ba8c132-a943-4b30-8b6c-3747aa823152",
   "metadata": {},
   "source": [
    "Some of the commonly used libraries used by Data Scientists include:\n",
    "1. Pandas\n",
    "2. Numpy\n",
    "3. Keras\n",
    "4. SciPy"
   ]
  },
  {
   "cell_type": "markdown",
   "id": "0c781036-f792-4d84-8efc-5160f5248f1e",
   "metadata": {},
   "source": [
    "### Exercise 6: Create a markdown cell with a table of Data Science tools"
   ]
  },
  {
   "cell_type": "markdown",
   "id": "b7975dfc-65c7-4350-a4ee-52a0d68f60f3",
   "metadata": {},
   "source": [
    "| Data Science Tools |\n",
    "|---|\n",
    "| Jupyter |\n",
    "| R Studio |\n",
    "| Visual Studio Code |"
   ]
  },
  {
   "cell_type": "markdown",
   "id": "b4e11984-0e13-427f-90ac-ce0287fdad5e",
   "metadata": {},
   "source": [
    "### Exercise 7:  Create a markdown cell introducing arithmetic expression examples"
   ]
  },
  {
   "cell_type": "markdown",
   "id": "f10cb38d-17e5-4e69-8921-893371ad8d27",
   "metadata": {},
   "source": [
    "Below are a few examples of evaluating arithmetic expressions in Python."
   ]
  },
  {
   "cell_type": "markdown",
   "id": "5a3c090a-b618-4d42-bcce-1e2b01273bca",
   "metadata": {},
   "source": [
    "### Exercise 8: Create a code cell to multiply and add numbers"
   ]
  },
  {
   "cell_type": "code",
   "execution_count": 13,
   "id": "5331a0cc-d18b-4c48-922f-a000e6363460",
   "metadata": {},
   "outputs": [
    {
     "data": {
      "text/plain": [
       "17"
      ]
     },
     "execution_count": 13,
     "metadata": {},
     "output_type": "execute_result"
    }
   ],
   "source": [
    "# This a simple arithmetic expression to multiply then add integers\n",
    "(3*4)+5"
   ]
  },
  {
   "cell_type": "markdown",
   "id": "99ddc0d7-d2d0-468e-ada0-92dfc2de1649",
   "metadata": {},
   "source": [
    "### Exercise 9: Create a code cell to convert minutes to hours"
   ]
  },
  {
   "cell_type": "code",
   "execution_count": 15,
   "id": "037a662e-7508-43e8-afd3-2b20fc8e46a6",
   "metadata": {},
   "outputs": [
    {
     "name": "stdout",
     "output_type": "stream",
     "text": [
      "hours:3.3333333333333335\n"
     ]
    }
   ],
   "source": [
    "# This will convert 200 minutes to hours by diving by 60\n",
    "minutes = 200\n",
    "hours = minutes / 60\n",
    "print(f'hours:{hours}')"
   ]
  },
  {
   "cell_type": "markdown",
   "id": "84d9e780-1f1d-4936-a383-666403e971a1",
   "metadata": {},
   "source": [
    "### Exercise 10: Insert a markdown cell to list Objectives"
   ]
  },
  {
   "cell_type": "markdown",
   "id": "fd2b74c7-7ea3-47cd-87cf-d9138370ed59",
   "metadata": {},
   "source": [
    "In this notebook, Data Science Tools and Ecosystem are summarized."
   ]
  },
  {
   "cell_type": "markdown",
   "id": "adc3636e-6ff7-4a1a-b5e6-1af3d210cf0a",
   "metadata": {},
   "source": [
    "**Objectives**\n",
    "- List data science languages\n",
    "- List data science libraries\n",
    "- List data science development environments\n",
    "- Create headings, tables, comments, and lists\n",
    "- Create simple arithmetic expressions"
   ]
  },
  {
   "cell_type": "markdown",
   "id": "6bca6ce2-c466-4aff-a37a-cbfd62b170ad",
   "metadata": {},
   "source": [
    "### Exercise 11: Create a markdown cell to indicate the Author's name"
   ]
  },
  {
   "cell_type": "markdown",
   "id": "d54b441f-fa7b-4d35-aaa1-78f086a4fbda",
   "metadata": {},
   "source": [
    "## Author\n",
    "Emanuele Valpreda"
   ]
  }
 ],
 "metadata": {
  "kernelspec": {
   "display_name": "Python 3 (ipykernel)",
   "language": "python",
   "name": "python3"
  },
  "language_info": {
   "codemirror_mode": {
    "name": "ipython",
    "version": 3
   },
   "file_extension": ".py",
   "mimetype": "text/x-python",
   "name": "python",
   "nbconvert_exporter": "python",
   "pygments_lexer": "ipython3",
   "version": "3.11.9"
  }
 },
 "nbformat": 4,
 "nbformat_minor": 5
}
